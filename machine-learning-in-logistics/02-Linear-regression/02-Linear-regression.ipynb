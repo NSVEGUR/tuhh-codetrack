{
 "cells": [
  {
   "cell_type": "markdown",
   "metadata": {},
   "source": [
    "# __ML in der Logistik__\n",
    "# Exercise 02 - Linear regression\n",
    "\n",
    "__Goal__: Understand the algorithm, attribute selection, linear regression tree, the effect of the outliers on the model, build a simple linear regression model in Python and normalize a dataset.\n",
    "\n",
    "\n",
    "__Data and application (Part 2)__: The dataset used contains the static informations of 4503 trips recorded on 4 routes in North Europa (Rotterdam > Hamburg, Kiel > Gdynia, Bremerhaven > Hamburg, Felixstowe > Rotterdam). We want to build a ML model to predict the length of a ship based on the other static characteristics.\n",
    "\n",
    "\n",
    "\n",
    "### Contents\n",
    "\n",
    "* [1 Theory: understand the linear regression algorithm](#t1)\n",
    "    * [1.1 The algorithm (10 min)](#t11)\n",
    "    * [1.2 Visual estimation (5 min)](#t12)\n",
    "    * [1.3 Attribute selection (5 min)](#t13)\n",
    "    * [1.4 Linear regression tree (15 min)](#t14)\n",
    "* [2 Simple linear regression: predict the length of a ship](#t2)\n",
    "    * [2.1 Load and prepare the data (5 min)](#t21)\n",
    "    * [2.2 Split into training and testing sets (5 min)](#t22)\n",
    "    * [2.3 Apply the LinearRegression algorithm (5 min)](#t23)\n",
    "    * [2.4 Optimize the model (10 min)](#t24)"
   ]
  },
  {
   "cell_type": "markdown",
   "metadata": {},
   "source": [
    "## 1 Theory: understand the linear regression algorithm <a class=\"anchor\" id=\"t1\"></a>"
   ]
  },
  {
   "cell_type": "markdown",
   "metadata": {},
   "source": [
    "### 1.1 The algorithm (10 min) <a class=\"anchor\" id=\"t11\"></a>"
   ]
  },
  {
   "cell_type": "markdown",
   "metadata": {},
   "source": [
    "*What is the formula of a linear regression model with n attributes?*\n",
    "\n",
    "$$ \\hat y = w^Tx + b $$\n",
    "\n",
    "*What is the goal of the cost function?*\n",
    "\n",
    "$$ J(w, b) = \\frac{1}{2m} \\Sigma_{i=1}^{m} (\\hat{y_i} - y_i)^2 $$\n",
    "\n",
    "Goal :    $ min\\underset{w, b} J(w, b) $\n",
    "\n",
    "*Explain the gradient descent algorithm for a problem with 2 attributes.*\n",
    "\n",
    "- set up the linear regression model\n",
    "- cost function\n",
    "- gradient descent algorithm: choose random initial weights, update weights until convergence with some learning rate alpha\n",
    "- compute the partial derivatives\n",
    "- repeat until J stops decreasing drastically"
   ]
  },
  {
   "cell_type": "markdown",
   "metadata": {},
   "source": [
    "### 1.2 Visual estimation (5 min) <a class=\"anchor\" id=\"t12\"></a>"
   ]
  },
  {
   "cell_type": "markdown",
   "metadata": {},
   "source": [
    "![text](02-breadth_length.PNG)\n",
    "\n",
    "This plot is the visual representation of the two attributes Length and Breadth of the dataset containing the metadata for 4503 trips on the 4 routes.\n",
    "\n",
    "*From this plot, visually estimate the parameters of a linear model to predict the Length from the Breadth,\n",
    "expressed like this: $y_i = \\beta_0 + \\beta_1 \\cdot x_i$, with $y_i$ the value of the Length and $x_i$ the value of the Breadth for the instance $i$. Pick the right answer from the following list, and explain your choice:*\n",
    "\n",
    "* 1. *$\\beta_0 = 16,5$ ; $\\beta_1 = -7,6$*\n",
    "* 2. *$\\beta_0 = -16,5$ ; $\\beta_1 = 7,6$*\n",
    "* 3. *$\\beta_0 = -150,1$ ; $\\beta_1 = 1,4$*\n",
    "* 4. *$\\beta_0 = 150,1$ ; $\\beta_1 = -1,4$*\n",
    "\n",
    "__Write the value of your choice in the following cell for the variable__ ``t12_parameters`` __(integer) (2 points).__"
   ]
  },
  {
   "cell_type": "code",
   "execution_count": 1,
   "metadata": {},
   "outputs": [],
   "source": [
    "# Values of the parameters (integer)\n",
    "\n",
    "t12_parameters = 2\n",
    "\n",
    "#Explanation: One thing we can say easily is slope should be positive, and based on the visualization we can see for small x they is a bit larger y so its bigger slope and smaller negative intercept or even by just trying out 2 and 3 options on a point (60, 423) we can nearly predict 2 is the choice of parameters"
   ]
  },
  {
   "cell_type": "markdown",
   "metadata": {},
   "source": [
    "### 1.3 Attribute selection (5 min) <a class=\"anchor\" id=\"t13\"></a>"
   ]
  },
  {
   "cell_type": "markdown",
   "metadata": {},
   "source": [
    "According to the Ockam's razor principle, the selection of some attributes can be useful to reduce overfitting.\n",
    "\n",
    "In machine learning, it is common to use some attribute selection methods, to select only the relevant attributes for the model and ignore the other ones.\n",
    "\n",
    "In this exercise, we propose to study the effect of two algorithms for an automatised attribute selection: the M5 method and the greedy method.\n",
    "\n",
    "* M5 method for attribute selection: step through the attributes, removing the one with the smallest standardised coefficient until no improvement is observed in the estimate of the error.\n",
    "* Greedy algorithm for attribute selection: evaluates a subset of features, modifies it and evaluates if the new subset is an improvement over the old. Usually stops when the new subset is not an improvement.\n",
    "\n",
    "\n",
    "This graph shows the MAE of the prediction of the Estimated Travel Time of each AIS signal, for 10 trips on the route Rotterdam > Hamburg. It represents the performance of an algorithm of linear regression, after applying the attribute selection algorithm. On the x-axis, the parameter is the attributes present in the dataset before applying the attribute selection algorithm and the linear model.\n",
    "\n",
    "Note: these results were generated with the tool Weka."
   ]
  },
  {
   "cell_type": "markdown",
   "metadata": {},
   "source": [
    "![text](02-ex2-comparison-algorithms.PNG)"
   ]
  },
  {
   "cell_type": "markdown",
   "metadata": {},
   "source": [
    "For each point on the graph, the attributes considered for the prediction are written on the x-axe and include:\n",
    "* Position = Latitude, Longitude\n",
    "* Speed = SOG, COG, TH\n",
    "* Ship = Name, Callsign\n",
    "* Shiptype = shiptype, MMSI\n",
    "* ShipCharacteristics = Length, Breadth, Draught\n",
    "* Time = timestamp"
   ]
  },
  {
   "cell_type": "markdown",
   "metadata": {},
   "source": [
    "*What is the best set of attributes for predicting the ETT?*\n",
    "\n",
    ": Position, Speed\n",
    "\n",
    "*Look at the first step, where all the attributes are considered for the model. What MAE would you expect from an ideal attribute selection algorithm?*\n",
    "\n",
    ": ideally we will choose the one with minimum MAE for ideal attribute selection algorithm, so at first step MAE can be expected to be equal to the same minimum MAE which is approx. 70 to 80 minutes.\n",
    "\n",
    "*What conclusion about attribute selection do you get from this graph?*\n",
    "\n",
    ": Attribute selection matters, removing irrelevant attributes increases generalization (Ockam's razor principle) and too few attributes (like last one with only position) also increases loss."
   ]
  },
  {
   "cell_type": "markdown",
   "metadata": {},
   "source": [
    "__Write the number of the best set of attributes for the prediction of the ETT in the following cell (integer) (2 points).__\n",
    "\n",
    "+ 1: Position, Speed, Ship, Shiptype, ShipCharacteristics, Time\n",
    "+ 2: Position, Speed, Ship, Shiptype, ShipCharacteristics\n",
    "+ 3: Position, Speed, Ship, Shiptype\n",
    "+ 4: Position, Speed, Ship\n",
    "+ 5: Position, Speed\n",
    "+ 6: Position"
   ]
  },
  {
   "cell_type": "code",
   "execution_count": 2,
   "metadata": {},
   "outputs": [],
   "source": [
    "# Best set of attributes (integer)\n",
    "\n",
    "t13_set_attributes = 5"
   ]
  },
  {
   "cell_type": "markdown",
   "metadata": {},
   "source": [
    "__Write the value of the MAE that is expected from an ideal attribute selection algorithm, in minutes (numeric, we check a range of values so you don't need to get the exact value) (2 points).__"
   ]
  },
  {
   "cell_type": "code",
   "execution_count": 3,
   "metadata": {},
   "outputs": [],
   "source": [
    "# MAE of ideal algorithm (integer, in minutes)\n",
    "\n",
    "t13_MAE = 75"
   ]
  },
  {
   "cell_type": "markdown",
   "metadata": {},
   "source": [
    "### 1.4 Linear regression  (15 min) <a class=\"anchor\" id=\"t14\"></a>"
   ]
  },
  {
   "cell_type": "markdown",
   "metadata": {},
   "source": [
    "Supose we have a data set that contains only one input feature, average speed over ground of a trip and we want to predict the duration of a trip. "
   ]
  },
  {
   "cell_type": "markdown",
   "metadata": {},
   "source": [
    "Here is a plot of  the dataset.\n"
   ]
  },
  {
   "cell_type": "markdown",
   "metadata": {},
   "source": [
    "![text](02-Linear_kiel.jpg)"
   ]
  },
  {
   "cell_type": "markdown",
   "metadata": {},
   "source": [
    "_Which are the points participating the most in the error? What can we do to get rid of the high error?_\n",
    "\n",
    ": \n",
    "- between SOG 14-16 there are few points which are outliers and effecting the prediction where most of the other points follow the same trend of decreasing the time taken based on increase of SOG.\n",
    "- deal with the outliers using various methods or even manual thresholding like above 2000 or 2250, use more robust model or transform the variable and linearize the relation\n",
    "\n",
    "_What can we do to get a model that better fits our data? Is a simple linear model a good approximation?_\n",
    "\n",
    ":\n",
    "- based on domain knowledge as duration is inversely proportional to the speed over ground we can say a simple linear model might be a good approximation.\n",
    "- we can also use some polynomial regression or non linear regression models etc and try to better fit out data.\n",
    "\n",
    "\n"
   ]
  },
  {
   "cell_type": "markdown",
   "metadata": {},
   "source": [
    "## 2 Linear regression: predict the duration of a trip <a class=\"anchor\" id=\"t2\"></a>"
   ]
  },
  {
   "cell_type": "markdown",
   "metadata": {},
   "source": [
    "### 2.1 Load the data (5 min)  <a class=\"anchor\" id=\"t21\"></a>"
   ]
  },
  {
   "cell_type": "markdown",
   "metadata": {},
   "source": [
    "In this exercise, we will use the dataset ``02-linear-regression_1.csv``. Read the file and examine the dataset."
   ]
  },
  {
   "cell_type": "code",
   "execution_count": 4,
   "metadata": {},
   "outputs": [],
   "source": [
    "# Import the data\n",
    "import pandas as pd\n",
    "\n",
    "df = pd.read_csv('02-linear-regression_1.csv')"
   ]
  },
  {
   "cell_type": "markdown",
   "metadata": {},
   "source": [
    "### 2.2 Split into training and testing sets (5 min) <a class=\"anchor\" id=\"t22\"></a>"
   ]
  },
  {
   "cell_type": "markdown",
   "metadata": {},
   "source": [
    "For splitting the dataset into train and test sets, we need to define the value of ``x``, the list containing the predictive attributes, and ``y``, the predicted attribute. \n",
    "\n",
    "__Set up the lists x and y (2 points).__"
   ]
  },
  {
   "cell_type": "code",
   "execution_count": 17,
   "metadata": {},
   "outputs": [],
   "source": [
    "# Set up x and y\n",
    "\n",
    "x = ['SOG']\n",
    "y = ['Duration']"
   ]
  },
  {
   "cell_type": "markdown",
   "metadata": {},
   "source": [
    "This dataset is simple. We can use the function ``train_test_split`` from the ``sklearn`` library to split the dataset into a train and test sets.\n",
    "\n",
    "This function takes as arguments the predictive data, the predicted attribute, the size of the test dataset (here 0.2, being 20% of the dataset) and the random seed (here, 1)."
   ]
  },
  {
   "cell_type": "code",
   "execution_count": 18,
   "metadata": {},
   "outputs": [],
   "source": [
    "# Split train and test sets\n",
    "\n",
    "from sklearn.model_selection import train_test_split\n",
    "\n",
    "X_train, X_test, y_train, y_test = train_test_split(df[x], df[y], test_size = 0.2, random_state = 1)"
   ]
  },
  {
   "cell_type": "markdown",
   "metadata": {},
   "source": [
    "### 2.3 Apply the LinearRegression algorithm (5 min)  <a class=\"anchor\" id=\"t23\"></a>"
   ]
  },
  {
   "cell_type": "markdown",
   "metadata": {},
   "source": [
    "We will apply the algorithm ``LinearRegression`` from the ``sklearn`` library.\n",
    "\n",
    "__Write the code to apply the algorithm (as we saw in the first exercise sheet), predicting the attribute 'Length' using all the other attributes. Do not specify any parameters for the algorithm. Compute the mean absolute error for the performance.__"
   ]
  },
  {
   "cell_type": "code",
   "execution_count": 19,
   "metadata": {},
   "outputs": [
    {
     "name": "stdout",
     "output_type": "stream",
     "text": [
      "133.67258847212693\n"
     ]
    }
   ],
   "source": [
    "# Apply the LinearRegression algorithm\n",
    "\n",
    "from sklearn.linear_model import LinearRegression\n",
    "from sklearn.metrics import mean_absolute_error\n",
    "\n",
    "reg = LinearRegression()\n",
    "reg.fit(X_train, y_train)\n",
    "predictions = reg.predict(X_test)\n",
    "mae = mean_absolute_error(y_test, predictions)\n",
    "print(mae)"
   ]
  },
  {
   "cell_type": "markdown",
   "metadata": {},
   "source": [
    "Besides getting predictions from the model built, the ``LinearRegression`` algorithm provides us with informations about the built model. After training the model with the function ``fit()``, we can access the coefficients of the model in the attribute ``coef_[0]``. We can also get the interception of the model with the attribute ``intercept_[0]``.\n",
    "\n",
    "Here is a short script to print the values of the coefficients of the model. Run this script to take a look at the model built."
   ]
  },
  {
   "cell_type": "code",
   "execution_count": 20,
   "metadata": {},
   "outputs": [
    {
     "name": "stdout",
     "output_type": "stream",
     "text": [
      "Linear regression model:\n",
      "-126.8522\t\t * SOG +\n",
      "3396.6997\n"
     ]
    }
   ],
   "source": [
    "# Print the coefficients of the model. Works also form more input features.\n",
    "\n",
    "print('Linear regression model:')\n",
    "i = 0\n",
    "for coef in reg.coef_[0]: # loop on the coefficients\n",
    "    print(str(round(coef, 4)) + '\\t\\t * ' + str(x[i]) + ' +') # print each coefficient with the name of the attribute\n",
    "    i = i + 1\n",
    "print(str(round(reg.intercept_[0], 4))) # print the intercept"
   ]
  },
  {
   "cell_type": "markdown",
   "metadata": {},
   "source": [
    "### 2.4 Optimize the model (10 min) <a class=\"anchor\" id=\"t24\"></a>"
   ]
  },
  {
   "cell_type": "markdown",
   "metadata": {},
   "source": [
    "We have a very simple data set. Just one input feature. To vizualize our problems, we can plot our model and the data. I have done it for you. Look at the picture below and you see that are a few data points that seem to be unusual, outliers.\n",
    "We should eliminate them."
   ]
  },
  {
   "cell_type": "markdown",
   "metadata": {},
   "source": [
    "![text](02_Linear_Kiel_outliers.jpg)"
   ]
  },
  {
   "cell_type": "markdown",
   "metadata": {},
   "source": [
    "We can see that the points where SOG is bigger than 14 and the Duration is bigger than 2200 are the outliers.\n",
    "We can use a filter condition to eliminate those data. We can use a data frame filter to select only those that are relevant.\n",
    "If we want to keep all examples where the SOG is bigger than 14 we can write dfNew = df[(df[\"SOG\"] >=14)]. You should now select those examples that are not outliers. Boolean operators are not(~), and(&) and or(|)."
   ]
  },
  {
   "cell_type": "code",
   "execution_count": null,
   "metadata": {},
   "outputs": [
    {
     "name": "stdout",
     "output_type": "stream",
     "text": [
      "(394, 2) (379, 2)\n"
     ]
    }
   ],
   "source": [
    "# filter the dataframe\n",
    "dfNew = df[~((df['SOG'] >= 14) & (df['Duration'] >= 2200))]"
   ]
  },
  {
   "cell_type": "markdown",
   "metadata": {},
   "source": [
    "Build a new linear regressor. Compare the error with and without the outliers."
   ]
  },
  {
   "cell_type": "code",
   "execution_count": 23,
   "metadata": {},
   "outputs": [
    {
     "name": "stdout",
     "output_type": "stream",
     "text": [
      "61.36057843040143\n"
     ]
    }
   ],
   "source": [
    "xNew = ['SOG']\n",
    "yNew = ['Duration']\n",
    "\n",
    "from sklearn.model_selection import train_test_split\n",
    "XNew_train, XNew_test, yNew_train, yNew_test = train_test_split(dfNew[xNew], dfNew[yNew], test_size = 0.2, random_state = 1)\n",
    "\n",
    "from sklearn.linear_model import LinearRegression\n",
    "from sklearn.metrics import mean_absolute_error\n",
    "\n",
    "reg = LinearRegression()\n",
    "reg.fit(XNew_train, yNew_train)\n",
    "predictions = reg.predict(XNew_test)\n",
    "mae = mean_absolute_error(yNew_test, predictions)\n",
    "print(mae)"
   ]
  },
  {
   "cell_type": "markdown",
   "metadata": {},
   "source": [
    "With the following function you can plot the data and the model."
   ]
  },
  {
   "cell_type": "code",
   "execution_count": 26,
   "metadata": {},
   "outputs": [],
   "source": [
    "import numpy as np\n",
    "import matplotlib.pyplot as plt\n",
    "\n",
    "def plot_data_and_model(coefficients, x_data, y_data):\n",
    "    poly_fit = np.poly1d(coefficients)\n",
    "    # print(poly_fit)\n",
    "    xx = np.linspace(0, 20, 40)\n",
    "    p=poly_fit(xx)\n",
    "    plt.plot(xx, p, c='r',linestyle='-')\n",
    "    plt.title('Linear')\n",
    "    plt.xlabel('SOG')\n",
    "    plt.ylabel('Duration')\n",
    "    plt.axis([6, 20, 1000, 2900])\n",
    "    plt.grid(False)\n",
    "    plt.scatter(x_data, y_data)\n",
    "    plt.show()"
   ]
  },
  {
   "cell_type": "code",
   "execution_count": 27,
   "metadata": {},
   "outputs": [
    {
     "data": {
      "image/png": "[encoded data removed]",
      "text/plain": [
       "<Figure size 640x480 with 1 Axes>"
      ]
     },
     "metadata": {},
     "output_type": "display_data"
    }
   ],
   "source": [
    "# plot the data and model\n",
    "#\n",
    "coefficients=np.array([reg.coef_[0],reg.intercept_[0]],dtype=object)\n",
    "\n",
    "plot_data_and_model(coefficients, X_train,y_train)"
   ]
  },
  {
   "cell_type": "markdown",
   "metadata": {},
   "source": [
    "The mean absolute error dropped down after eliminating the outliers. If you look at the model, you can see that the simple linear regressor is not optimal. From 8 to 9 and 16 to 18 the error is high. We can also use a ploynomial regressor.\n",
    "There are several ways to implement the polynomial regressor.\n",
    "You can use ``PolynomialFeatures`` to transform the input data into a polynomial feature set. You have to pass the variable ``degree=X`` to create the PolynomialFeatures object. Afterwards you can create the new feature set with the function ``fit_transform``. You have to pass the original feature set to this function. Check how the new feature set looks like."
   ]
  },
  {
   "cell_type": "markdown",
   "metadata": {},
   "source": [
    "Now we can again use ``plot_data_and_model`` to plot the result. You should also check the mean absolute error and compare it with the previous built regressors."
   ]
  },
  {
   "cell_type": "markdown",
   "metadata": {},
   "source": [
    "Try out different degrees to find the best solution. Beside plotting use the mean absolute error to compare the results on the training and test data."
   ]
  },
  {
   "cell_type": "code",
   "execution_count": 44,
   "metadata": {},
   "outputs": [
    {
     "data": {
      "image/png": "[encoded data removed]",
      "text/plain": [
       "<Figure size 640x480 with 1 Axes>"
      ]
     },
     "metadata": {},
     "output_type": "display_data"
    },
    {
     "data": {
      "text/plain": [
       "101.43766189716798"
      ]
     },
     "execution_count": 44,
     "metadata": {},
     "output_type": "execute_result"
    }
   ],
   "source": [
    "from sklearn.preprocessing import PolynomialFeatures\n",
    "\n",
    "poly = PolynomialFeatures(degree=2)\n",
    "x_3 = poly.fit_transform(X_train)\n",
    "reg=LinearRegression(fit_intercept=False)\n",
    "reg.fit(x_3,y_train)\n",
    "coef = np.flip(reg.coef_.flatten())\n",
    "plot_data_and_model(coef, X_train,y_train)\n",
    "predictions = reg.predict(x_3)\n",
    "mean_absolute_error(predictions, y_train)"
   ]
  },
  {
   "cell_type": "code",
   "execution_count": null,
   "metadata": {},
   "outputs": [],
   "source": []
  }
 ],
 "metadata": {
  "kernelspec": {
   "display_name": ".venv",
   "language": "python",
   "name": "python3"
  },
  "language_info": {
   "codemirror_mode": {
    "name": "ipython",
    "version": 3
   },
   "file_extension": ".py",
   "mimetype": "text/x-python",
   "name": "python",
   "nbconvert_exporter": "python",
   "pygments_lexer": "ipython3",
   "version": "3.12.3"
  },
  "varInspector": {
   "cols": {
    "lenName": 16,
    "lenType": 16,
    "lenVar": 40
   },
   "kernels_config": {
    "python": {
     "delete_cmd_postfix": "",
     "delete_cmd_prefix": "del ",
     "library": "var_list.py",
     "varRefreshCmd": "print(var_dic_list())"
    },
    "r": {
     "delete_cmd_postfix": ") ",
     "delete_cmd_prefix": "rm(",
     "library": "var_list.r",
     "varRefreshCmd": "cat(var_dic_list()) "
    }
   },
   "types_to_exclude": [
    "module",
    "function",
    "builtin_function_or_method",
    "instance",
    "_Feature"
   ],
   "window_display": false
  }
 },
 "nbformat": 4,
 "nbformat_minor": 2
}
